{
 "cells": [
  {
   "cell_type": "code",
   "execution_count": 29,
   "metadata": {},
   "outputs": [
    {
     "name": "stdout",
     "output_type": "stream",
     "text": [
      "17.21110255092798\n"
     ]
    }
   ],
   "source": [
    "class Point2D:\n",
    "    def __init__(self, x, y):\n",
    "        self.x = x\n",
    "        self.y = y\n",
    " \n",
    "A = Point2D(x=0, y=8)    # 점1\n",
    "B = Point2D(x=10, y=6)    # 점2\n",
    "# AO = Point2D(x=0, y=0)    # 점1\n",
    "# BO = Point2D(x=10, y=0)\n",
    "\n",
    "def distance(a,b):\n",
    "    c = ((a * a) + (b * b))**0.5    # (a * a) + (b * b)의 제곱근을 구함\n",
    "    return c\n",
    "\n",
    "path_array=[]\n",
    "for i in range(0,11):\n",
    "    ABO= Point2D(x=i, y=0)\n",
    "    a=B.x- ABO.x\n",
    "    b=B.y- ABO.y\n",
    "    a1=A.x- ABO.x\n",
    "    b1=A.y- ABO.y\n",
    "    \n",
    "    path= distance(a,b)+distance(a1,b1)\n",
    "    path_array.append(path)\n",
    "    \n",
    "# print(path_array)\n",
    "print(min(path_array))"
   ]
  },
  {
   "cell_type": "code",
   "execution_count": null,
   "metadata": {},
   "outputs": [],
   "source": []
  }
 ],
 "metadata": {
  "kernelspec": {
   "display_name": "Python 3",
   "language": "python",
   "name": "python3"
  },
  "language_info": {
   "codemirror_mode": {
    "name": "ipython",
    "version": 3
   },
   "file_extension": ".py",
   "mimetype": "text/x-python",
   "name": "python",
   "nbconvert_exporter": "python",
   "pygments_lexer": "ipython3",
   "version": "3.7.4"
  }
 },
 "nbformat": 4,
 "nbformat_minor": 4
}
